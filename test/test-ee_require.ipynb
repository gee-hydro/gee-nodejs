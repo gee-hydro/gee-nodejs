{
 "cells": [
  {
   "cell_type": "code",
   "execution_count": 3,
   "id": "7bdc52ba",
   "metadata": {},
   "outputs": [
    {
     "name": "stdout",
     "output_type": "stream",
     "text": [
      "{\n",
      "  type: 'Image',\n",
      "  bands: [\n",
      "    {\n",
      "      id: 'constant',\n",
      "      data_type: [Object],\n",
      "      crs: 'EPSG:4326',\n",
      "      crs_transform: [Array]\n",
      "    }\n",
      "  ]\n",
      "}\n"
     ]
    }
   ],
   "source": [
    "var ee = require('@google/earthengine');\n",
    "var pkg = require(\"../main_pkgs.js\");\n",
    "\n",
    "pkg.ee_init()"
   ]
  },
  {
   "cell_type": "code",
   "execution_count": null,
   "id": "1e232936",
   "metadata": {},
   "outputs": [],
   "source": [
    "var imageMetadata = ee.Image(1).getInfo();\n",
    "print(imageMetadata);"
   ]
  },
  {
   "cell_type": "code",
   "execution_count": 5,
   "id": "6e4de0a4",
   "metadata": {},
   "outputs": [
    {
     "data": {
      "text/plain": [
       "{\n",
       "  generateGrid: [Function: generateGrid],\n",
       "  generateRasterGrid: [Function: generateRasterGrid],\n",
       "  grid_test: [Function: grid_test]\n",
       "}"
      ]
     },
     "execution_count": 5,
     "metadata": {},
     "output_type": "execute_result"
    }
   ],
   "source": [
    "// load source from github\n",
    "// url = \"https://code.earthengine.google.com/repo/file/load?repo=users%2Fkongdd%2Fpkgs&path=pkg_vis.js\"\n",
    "url = 'https://raw.githubusercontent.com/gee-community/geemap/master/examples/javascripts/grid.js'\n",
    "\n",
    "var pkg = requireFromUrl(url);\n",
    "pkg\n",
    "// var pkg_vis = require(url);"
   ]
  },
  {
   "cell_type": "code",
   "execution_count": 49,
   "id": "dba11ebd",
   "metadata": {},
   "outputs": [
    {
     "name": "stdout",
     "output_type": "stream",
     "text": [
      "users/kongdd/pkgs\n"
     ]
    },
    {
     "name": "stdout",
     "output_type": "stream",
     "text": [
      "Error: Command failed: git clone https://earthengine.googlesource.com/users/kongdd/pkgs C:/Users/kong/gee/pkgs\n",
      "fatal: destination path 'C:/Users/kong/gee/pkgs' already exists and is not an empty directory.\n",
      "\n",
      "    at ChildProcess.exithandler (node:child_process:421:12)\n",
      "    at ChildProcess.emit (node:events:514:28)\n",
      "    at maybeClose (node:internal/child_process:1105:16)\n",
      "    at ChildProcess._handle.onexit (node:internal/child_process:305:5) {\n",
      "  code: 128,\n",
      "  killed: false,\n",
      "  signal: null,\n",
      "  cmd: 'git clone https://earthengine.googlesource.com/users/kongdd/pkgs C:/Users/kong/gee/pkgs'\n",
      "}\n",
      "stdout: Already up to date.\n",
      "\n"
     ]
    }
   ],
   "source": [
    "// how to load source from GEE\n",
    "var url = \"users/kongdd/pkgs:pkg_vis.js\"\n",
    "pkgs = ee_require(url)\n",
    "pkgs"
   ]
  },
  {
   "cell_type": "code",
   "execution_count": 56,
   "id": "36e0fa30",
   "metadata": {},
   "outputs": [
    {
     "data": {
      "text/plain": [
       "'C:/Users/kong/gee'"
      ]
     },
     "execution_count": 56,
     "metadata": {},
     "output_type": "execute_result"
    }
   ],
   "source": [
    "// var FileSaver = require('file-saver');\n",
    "// path.basename(repo)\n",
    "// odir = dir_gee + \"/\" + path.basename(repo)"
   ]
  },
  {
   "cell_type": "code",
   "execution_count": 18,
   "id": "5766114e",
   "metadata": {},
   "outputs": [
    {
     "data": {
      "text/plain": [
       "Promise { <pending> }"
      ]
     },
     "execution_count": 18,
     "metadata": {},
     "output_type": "execute_result"
    },
    {
     "name": "stdout",
     "output_type": "stream",
     "text": [
      "Blob { size: 626917, type: 'text/html;charset=utf-8' }\n"
     ]
    }
   ],
   "source": [
    "// const token = \"nz-hzaTpn3ToBmSdWW1INE8Umw2q6PTUWPGFcwNzSc46MTY5MzI3NzM3NDE3Nzg4OQ\";\n",
    "fetch(url, {\n",
    "  headers: {\n",
    "    \"X-Xsrf-Token\": token\n",
    "  }\n",
    "})\n",
    ".then(response => response.blob())\n",
    ".then(blob => {\n",
    "    blob.arrayBuffer().then(buffer => {\n",
    "      fs.writeFile(\"a.html\", Buffer.from(buffer), error => {}) \n",
    "    });\n",
    "//   FileSaver.saveAs(blob, \"./a.html\");\n",
    "  console.log(blob)\n",
    "})\n",
    ".catch(error => {\n",
    "  console.error(\"Error downloading file:\", error);\n",
    "});"
   ]
  },
  {
   "cell_type": "code",
   "execution_count": 17,
   "id": "487b5d70",
   "metadata": {},
   "outputs": [
    {
     "data": {
      "text/plain": [
       "Promise { <pending> }"
      ]
     },
     "execution_count": 17,
     "metadata": {},
     "output_type": "execute_result"
    }
   ],
   "source": [
    "fs = require(\"fs\");\n",
    "path = require(\"path\");\n",
    "\n",
    "var FileSaver = require('file-saver');\n",
    "var blob = new Blob([\"Hello, world!\"], {type: \"text/plain;charset=utf-8\"});\n",
    "// FileSaver.saveAs(blob, \"hello world.txt\");\n",
    "\n",
    "const filePath = path.join(__dirname, \"hello-world.html\");\n",
    "// const blob = new Blob([\"Hello, world!\"], { type: \"text/html;charset=utf-8\" });\n",
    "\n",
    "blob.arrayBuffer().then(buffer => {\n",
    "  fs.writeFile(filePath, Buffer.from(buffer), error => {}) \n",
    "});\n"
   ]
  }
 ],
 "metadata": {
  "kernelspec": {
   "display_name": "JavaScript (Node.js)",
   "language": "javascript",
   "name": "javascript"
  },
  "language_info": {
   "file_extension": ".js",
   "mimetype": "application/javascript",
   "name": "javascript",
   "version": "20.5.1"
  }
 },
 "nbformat": 4,
 "nbformat_minor": 5
}
