{
 "cells": [
  {
   "cell_type": "code",
   "execution_count": 2,
   "metadata": {},
   "outputs": [],
   "source": [
    "var ee = require('@google/earthengine');\n",
    "var pkg = require(\"./main_pkgs.js\");\n",
    "\n",
    "pkg.ee_init()"
   ]
  },
  {
   "cell_type": "code",
   "execution_count": 3,
   "metadata": {},
   "outputs": [
    {
     "name": "stdout",
     "output_type": "stream",
     "text": [
      "{\n",
      "  type: 'Image',\n",
      "  bands: [\n",
      "    {\n",
      "      id: 'constant',\n",
      "      data_type: [Object],\n",
      "      crs: 'EPSG:4326',\n",
      "      crs_transform: [Array]\n",
      "    }\n",
      "  ]\n",
      "}\n"
     ]
    }
   ],
   "source": [
    "var imageMetadata = ee.Image(1).getInfo();\n",
    "print(imageMetadata);"
   ]
  },
  {
   "cell_type": "code",
   "execution_count": 4,
   "metadata": {},
   "outputs": [
    {
     "data": {
      "text/plain": [
       "{\n",
       "  DIR: {\n",
       "    PRIVATE_KEY: 'C:\\\\Users\\\\kong/.config/earthengine/.private-key.json',\n",
       "    GEE: 'C:\\\\Users\\\\kong/gee'\n",
       "  },\n",
       "  print: [Function: log],\n",
       "  ee_init: [Function: ee_init],\n",
       "  run_exec: [Function: run_exec]\n",
       "}"
      ]
     },
     "execution_count": 4,
     "metadata": {},
     "output_type": "execute_result"
    }
   ],
   "source": [
    "pkg"
   ]
  }
 ],
 "metadata": {
  "kernelspec": {
   "display_name": "JavaScript (Node.js)",
   "language": "javascript",
   "name": "javascript"
  },
  "language_info": {
   "file_extension": ".js",
   "mimetype": "application/javascript",
   "name": "javascript",
   "version": "20.5.1"
  },
  "orig_nbformat": 4
 },
 "nbformat": 4,
 "nbformat_minor": 2
}
