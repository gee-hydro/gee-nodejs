{
 "cells": [
  {
   "cell_type": "code",
   "execution_count": 3,
   "id": "7bdc52ba",
   "metadata": {
    "vscode": {
     "languageId": "javascript"
    }
   },
   "outputs": [],
   "source": [
    "var ee = require('@google/earthengine');\n",
    "var requireFromUrl = require('require-from-url/sync');\n",
    "\n",
    "var private_key = require('C:/Users/kong/.config/earthengine/.private-key.json');\n",
    "print = console.log;\n",
    "\n",
    "ee.data.authenticateViaPrivateKey(private_key);\n",
    "ee.initialize();"
   ]
  },
  {
   "cell_type": "code",
   "execution_count": 4,
   "id": "90b74152",
   "metadata": {
    "vscode": {
     "languageId": "javascript"
    }
   },
   "outputs": [
    {
     "name": "stdout",
     "output_type": "stream",
     "text": [
      "{\n",
      "  type: 'Image',\n",
      "  bands: [\n",
      "    {\n",
      "      id: 'constant',\n",
      "      data_type: [Object],\n",
      "      crs: 'EPSG:4326',\n",
      "      crs_transform: [Array]\n",
      "    }\n",
      "  ]\n",
      "}\n"
     ]
    }
   ],
   "source": [
    "var imageMetadata = ee.Image(1).getInfo();\n",
    "print(imageMetadata);"
   ]
  },
  {
   "cell_type": "code",
   "execution_count": 7,
   "id": "6e4de0a4",
   "metadata": {
    "vscode": {
     "languageId": "javascript"
    }
   },
   "outputs": [
    {
     "data": {
      "text/plain": [
       "{\n",
       "  generateGrid: [Function: generateGrid],\n",
       "  generateRasterGrid: [Function: generateRasterGrid],\n",
       "  grid_test: [Function: grid_test]\n",
       "}"
      ]
     },
     "execution_count": 7,
     "metadata": {},
     "output_type": "execute_result"
    }
   ],
   "source": [
    "// load source from github\n",
    "// url = \"https://code.earthengine.google.com/repo/file/load?repo=users%2Fkongdd%2Fpkgs&path=pkg_vis.js\"\n",
    "url = 'https://raw.githubusercontent.com/gee-community/geemap/master/examples/javascripts/grid.js'\n",
    "\n",
    "var pkg = requireFromUrl(url);\n",
    "\n",
    "pkg\n",
    "// var pkg_vis = require(url);"
   ]
  },
  {
   "cell_type": "code",
   "execution_count": 8,
   "id": "3ab15b1e",
   "metadata": {},
   "outputs": [
    {
     "ename": "Error",
     "evalue": "href=https://code.earthengine.google.com/repo/file/load?repo=users%2Fkongdd%2Fpkgs&path=pkg_vis.js; statusCode=302",
     "output_type": "error",
     "traceback": [
      "C:\\Users\\kong\\scoop\\persist\\nodejs\\bin\\node_modules\\require-from-url\\sync.js:18",
      "        if(err_str_filename[0]) throw new Error(err_str_filename[0]);",
      "                                ^",
      "",
      "Error: href=https://code.earthengine.google.com/repo/file/load?repo=users%2Fkongdd%2Fpkgs&path=pkg_vis.js; statusCode=302",
      "    at sync (C:\\Users\\kong\\scoop\\persist\\nodejs\\bin\\node_modules\\require-from-url\\sync.js:18:39)",
      "    at evalmachine.<anonymous>:3:11",
      "    at Script.runInThisContext (node:vm:122:12)",
      "    at Object.runInThisContext (node:vm:298:38)",
      "    at run ([eval]:1020:15)",
      "    at onRunRequest ([eval]:864:18)",
      "    at onMessage ([eval]:828:13)",
      "    at process.emit (node:events:514:28)",
      "    at emit (node:internal/child_process:951:14)",
      "    at process.processTicksAndRejections (node:internal/process/task_queues:83:21)"
     ]
    }
   ],
   "source": [
    "// how to load source from GEE\n",
    "url = \"https://code.earthengine.google.com/repo/file/load?repo=users%2Fkongdd%2Fpkgs&path=pkg_vis.js\"\n",
    "var pkg = requireFromUrl(url);\n",
    "pkg"
   ]
  }
 ],
 "metadata": {
  "kernelspec": {
   "display_name": "JavaScript (Node.js)",
   "language": "javascript",
   "name": "javascript"
  },
  "language_info": {
   "file_extension": ".js",
   "mimetype": "application/javascript",
   "name": "javascript",
   "version": "20.5.1"
  }
 },
 "nbformat": 4,
 "nbformat_minor": 5
}
