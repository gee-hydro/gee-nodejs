{
 "cells": [
  {
   "cell_type": "code",
   "execution_count": 5,
   "metadata": {},
   "outputs": [
    {
     "name": "stdout",
     "output_type": "stream",
     "text": [
      "{\n",
      "  write_json: [Function: write_json],\n",
      "  write_disk: [Function: write_disk],\n",
      "  ee_write_json: [AsyncFunction: ee_write_json],\n",
      "  run_exec: [Function: run_exec],\n",
      "  ee_require: [Function: ee_require],\n",
      "  merge_dict: [Function (anonymous)],\n",
      "  default_true: [Function (anonymous)],\n",
      "  extract: [Function (anonymous)],\n",
      "  guess_reduce_option: [Function (anonymous)],\n",
      "  ee_extract_img: [Function (anonymous)],\n",
      "  _extract_col: [Function (anonymous)],\n",
      "  ee_extract_col: [Function (anonymous)],\n",
      "  st_drop_geometry: [Function (anonymous)],\n",
      "  sf_to_dict: [Function (anonymous)],\n",
      "  getDimensions: [Function (anonymous)],\n",
      "  set_image_range: [Function (anonymous)],\n",
      "  ExportTable: [Function (anonymous)],\n",
      "  ExportImage: [Function (anonymous)],\n",
      "  getDownloadURL: [Function (anonymous)],\n",
      "  index: {\n",
      "    SAVI: [Function (anonymous)],\n",
      "    NDVI: [Function (anonymous)],\n",
      "    EVI: [Function (anonymous)],\n",
      "    EVI2: [Function (anonymous)],\n",
      "    GVMI: [Function (anonymous)],\n",
      "    GVMI2: [Function (anonymous)],\n",
      "    RMI: [Function (anonymous)],\n",
      "    RMI2: [Function (anonymous)],\n",
      "    LSWI: [Function (anonymous)]\n",
      "  },\n",
      "  CMRSET: {\n",
      "    rescaled_evi: [Function (anonymous)],\n",
      "    PInterception: [Function (anonymous)],\n",
      "    Kc: [Function (anonymous)],\n",
      "    Kc2: [Function (anonymous)],\n",
      "    Kc_kamble: [Function (anonymous)],\n",
      "    Kc_irrisat: [Function (anonymous)],\n",
      "    ETa_swir1: [Function (anonymous)],\n",
      "    ETa_swir2: [Function (anonymous)],\n",
      "    ETa_irrisat: [Function (anonymous)],\n",
      "    ETa_kamble: [Function (anonymous)],\n",
      "    irrest_swir1: [Function (anonymous)],\n",
      "    irrest_swir2: [Function (anonymous)],\n",
      "    irrest_kamble: [Function (anonymous)],\n",
      "    irrest_irrisat: [Function (anonymous)]\n",
      "  }\n",
      "}\n"
     ]
    }
   ],
   "source": [
    "var pkg = require(\"./index.js\");\n",
    "\n",
    "print(pkg)\n",
    "ee_init()"
   ]
  },
  {
   "cell_type": "code",
   "execution_count": null,
   "metadata": {},
   "outputs": [],
   "source": [
    "var image = ee.Image(new ee.ImageCollection('LANDSAT/LC8_L1T_TOA').first());\n",
    "var info = image.getInfo();\n",
    "\n",
    "var date = info.properties['DATE_ACQUIRED'];\n",
    "print('First image in LANDSAT 8 TOA collection was aquired on ' + date);\n",
    "\n",
    "print('Downloading thumbnail ...');\n",
    "\n",
    "var url = image\n",
    "  .visualize({ bands: ['B6', 'B5', 'B3'], gamma: 1.5 })\n",
    "  .getThumbURL({ dimensions: '1000', format: 'jpg' });\n",
    "\n",
    "download(url, 'hello.jpg');\n"
   ]
  },
  {
   "cell_type": "code",
   "execution_count": 3,
   "metadata": {},
   "outputs": [],
   "source": [
    "var col = ee.ImageCollection(\"CAS/IGSNRR/PML/V2_v017\");\n",
    "var img = col.first();\n",
    "\n",
    "var range = [114.0, 30.4, 114.7, 30.75]\n",
    "var region = ee.Geometry.Rectangle(range)\n"
   ]
  },
  {
   "cell_type": "code",
   "execution_count": null,
   "metadata": {},
   "outputs": [],
   "source": [
    "/** 直接下载tif的两种方式 */\n",
    "// 1. 获取url，band names 会丢失\n",
    "pkg.getDownloadURL(img, \"PML-test\", { region: region})\n",
    "pkg.getDownloadURL(img, \"PML-D005\", { range: range, cellsize: 0.05 })\n",
    "\n",
    "// 2. 从google drive下载\n",
    "pkg.ExportImage(img, \"PML-test\", { region: region })\n",
    "pkg.ExportImage(img, \"PML-D005\", { range: range, cellsize: 0.05 })"
   ]
  },
  {
   "cell_type": "code",
   "execution_count": 6,
   "metadata": {},
   "outputs": [
    {
     "data": {
      "text/plain": [
       "{\n",
       "  started: 'OK',\n",
       "  taskId: 'QPWORFGTXSSQDNBO6SQC2PJD',\n",
       "  name: 'projects/earthengine-legacy/operations/QPWORFGTXSSQDNBO6SQC2PJD'\n",
       "}"
      ]
     },
     "execution_count": 6,
     "metadata": {},
     "output_type": "execute_result"
    }
   ],
   "source": [
    "// 2. to google drive\n",
    "pkg.ExportImage(img, \"PML-drive3\", \n",
    "  { region: region, folder: \"gee\", verbose: false })"
   ]
  },
  {
   "cell_type": "code",
   "execution_count": 8,
   "metadata": {},
   "outputs": [
    {
     "data": {
      "text/plain": [
       "{\n",
       "  started: 'OK',\n",
       "  taskId: 'KTPDISVENXR7U4DUKSCUUMIH',\n",
       "  name: 'projects/earthengine-legacy/operations/KTPDISVENXR7U4DUKSCUUMIH'\n",
       "}"
      ]
     },
     "execution_count": 8,
     "metadata": {},
     "output_type": "execute_result"
    }
   ],
   "source": [
    "// 3. save to asset\n",
    "pkg.ExportImage(img, \"PML-asset\",\n",
    "  { type: \"asset\", region: region, folder: \"users/kongdd/PML\", verbose: false })"
   ]
  },
  {
   "cell_type": "code",
   "execution_count": null,
   "metadata": {},
   "outputs": [],
   "source": [
    "var fc = ee.FeatureCollection(\"users/kongdd/shp/flux-212\").select(['site', 'IGBP']).limit(10);\n",
    "pkg.ExportTable(fc, \"flux212_latest\", { fileFormat: \"shp\"})\n"
   ]
  },
  {
   "cell_type": "code",
   "execution_count": null,
   "metadata": {},
   "outputs": [],
   "source": [
    "// ee_extract_img\n",
    "var r = pkg.ee_extract_img(img, fc)\n",
    "// pkg.sf_to_dict(r, true).getInfo() # 保存为csv\n",
    "pkg.ExportTable(fc, \"flux10_PMLV2\", { fileFormat: \"csv\" })\n"
   ]
  },
  {
   "cell_type": "code",
   "execution_count": null,
   "metadata": {},
   "outputs": [],
   "source": [
    "var vis = {\n",
    "  bands: ['GPP'],\n",
    "  min: 0.0,\n",
    "  max: 9.0,\n",
    "  palette: [\n",
    "    'a50026', 'd73027', 'f46d43', 'fdae61', 'fee08b', 'ffffbf',\n",
    "    'd9ef8b', 'a6d96a', '66bd63', '1a9850', '006837',\n",
    "  ]\n",
    "};\n",
    "\n",
    "// fmt = \"tif\" # png or jpg\n",
    "// fout = \"pml.\" + fmt\n",
    "// var url = img.visualize(vis).getThumbURL({ dimension: 1000, region: roi, format: fmt});\n",
    "// download(url, fout);\n"
   ]
  }
 ],
 "metadata": {
  "kernelspec": {
   "display_name": "JavaScript (Node.js)",
   "language": "javascript",
   "name": "javascript"
  },
  "language_info": {
   "file_extension": ".js",
   "mimetype": "application/javascript",
   "name": "javascript",
   "version": "20.5.1"
  },
  "orig_nbformat": 4
 },
 "nbformat": 4,
 "nbformat_minor": 2
}
