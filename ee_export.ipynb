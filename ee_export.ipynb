{
 "cells": [
  {
   "cell_type": "code",
   "execution_count": 2,
   "metadata": {},
   "outputs": [
    {
     "name": "stdout",
     "output_type": "stream",
     "text": [
      "{\n",
      "  DIR: {\n",
      "    PRIVATE_KEY: 'C:\\\\Users\\\\kong/.config/earthengine/.private-key.json',\n",
      "    GEE: 'C:\\\\Users\\\\kong/gee'\n",
      "  },\n",
      "  write_json: [Function: write_json],\n",
      "  write_disk: [Function: write_disk],\n",
      "  ee_write_json: [AsyncFunction: ee_write_json],\n",
      "  ee_init: [Function: ee_init],\n",
      "  run_exec: [Function: run_exec],\n",
      "  ee_require: [Function: ee_require],\n",
      "  print: [Function: log],\n",
      "  merge_dict: [Function (anonymous)],\n",
      "  default_true: [Function (anonymous)],\n",
      "  sf_to_dict: [Function: sf_to_dict],\n",
      "  st_drop_geometry: [Function: st_drop_geometry],\n",
      "  ee_extract_img: [Function: ee_extract_img],\n",
      "  ee_extract_col: [Function: ee_extract_col],\n",
      "  guess_reduce_option: [Function: guess_reduce_option]\n",
      "}\n"
     ]
    }
   ],
   "source": [
    "var ee = require('@google/earthengine');\n",
    "var pkg = require(\"./pkg.js\");\n",
    "var { print, ee_init} = require(\"./pkg.js\");\n",
    "\n",
    "print(pkg)\n",
    "ee_init()\n"
   ]
  },
  {
   "cell_type": "code",
   "execution_count": 3,
   "metadata": {},
   "outputs": [
    {
     "name": "stdout",
     "output_type": "stream",
     "text": [
      "hello world!\n"
     ]
    }
   ],
   "source": [
    "print(\"hello world!\");\n"
   ]
  },
  {
   "cell_type": "code",
   "execution_count": 6,
   "metadata": {},
   "outputs": [
    {
     "data": {
      "text/plain": [
       "[\n",
       "  {\n",
       "    Ec: 0.35000000000000003,\n",
       "    Ei: 0.18,\n",
       "    Es: 0.32,\n",
       "    GPP: 3.54,\n",
       "    IGBP: 'ENF',\n",
       "    date: '2000-02-26',\n",
       "    site: 'FR-LBr'\n",
       "  },\n",
       "  {\n",
       "    Ec: 0.13,\n",
       "    Ei: 0,\n",
       "    Es: 0,\n",
       "    GPP: 0.78,\n",
       "    IGBP: 'OSH',\n",
       "    date: '2000-02-26',\n",
       "    site: 'ES-LJu'\n",
       "  },\n",
       "  {\n",
       "    Ec: 0.51,\n",
       "    Ei: 0,\n",
       "    Es: 0.01,\n",
       "    GPP: 1.98,\n",
       "    IGBP: 'OSH',\n",
       "    date: '2000-02-26',\n",
       "    site: 'ES-LgS'\n",
       "  },\n",
       "  {\n",
       "    Ec: 0.77,\n",
       "    Ei: 0,\n",
       "    Es: 0.01,\n",
       "    GPP: 2.89,\n",
       "    IGBP: 'OSH',\n",
       "    date: '2000-02-26',\n",
       "    site: 'ES-Ln2'\n",
       "  },\n",
       "  {\n",
       "    Ec: 0.12,\n",
       "    Ei: 0,\n",
       "    Es: 0,\n",
       "    GPP: 0.8200000000000001,\n",
       "    IGBP: 'OSH',\n",
       "    date: '2000-02-26',\n",
       "    site: 'ES-Amo'\n",
       "  },\n",
       "  {\n",
       "    Ec: 0.23,\n",
       "    Ei: 0,\n",
       "    Es: 0,\n",
       "    GPP: 0.02,\n",
       "    IGBP: 'SAV',\n",
       "    date: '2000-02-26',\n",
       "    site: 'SN-Dhr'\n",
       "  },\n",
       "  {\n",
       "    Ei: 0.05,\n",
       "    GPP: 2.59,\n",
       "    IGBP: 'EBF',\n",
       "    date: '2000-02-26',\n",
       "    site: 'GH-Ank'\n",
       "  },\n",
       "  {\n",
       "    Ec: 0.62,\n",
       "    Ei: 0.14,\n",
       "    Es: 0.31,\n",
       "    GPP: 4.49,\n",
       "    IGBP: 'EBF',\n",
       "    date: '2000-02-26',\n",
       "    site: 'FR-Pue'\n",
       "  },\n",
       "  {\n",
       "    Ec: 0.36,\n",
       "    Ei: 0.11,\n",
       "    Es: 0.49,\n",
       "    GPP: 3.5700000000000003,\n",
       "    IGBP: 'ENF',\n",
       "    date: '2000-02-26',\n",
       "    site: 'IT-SRo'\n",
       "  },\n",
       "  {\n",
       "    Ec: 0.42,\n",
       "    Ei: 0.13,\n",
       "    Es: 0.36,\n",
       "    GPP: 4.2,\n",
       "    IGBP: 'ENF',\n",
       "    date: '2000-02-26',\n",
       "    site: 'IT-SR2'\n",
       "  }\n",
       "]"
      ]
     },
     "execution_count": 6,
     "metadata": {},
     "output_type": "execute_result"
    }
   ],
   "source": [
    "var col = ee.ImageCollection(\"CAS/IGSNRR/PML/V2_v017\");\n",
    "var fc = ee.FeatureCollection(\"users/kongdd/shp/flux-212\").select(['site', 'IGBP']).limit(10);\n",
    "var img = col.first();"
   ]
  }
 ],
 "metadata": {
  "kernelspec": {
   "display_name": "JavaScript (Node.js)",
   "language": "javascript",
   "name": "javascript"
  },
  "language_info": {
   "file_extension": ".js",
   "mimetype": "application/javascript",
   "name": "javascript",
   "version": "20.5.1"
  },
  "orig_nbformat": 4
 },
 "nbformat": 4,
 "nbformat_minor": 2
}
