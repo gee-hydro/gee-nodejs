{
 "cells": [
  {
   "cell_type": "code",
   "execution_count": 2,
   "metadata": {},
   "outputs": [
    {
     "name": "stdout",
     "output_type": "stream",
     "text": [
      "{\n",
      "  write_json: [Function: write_json],\n",
      "  write_disk: [Function: write_disk],\n",
      "  ee_write_json: [AsyncFunction: ee_write_json],\n",
      "  run_exec: [Function: run_exec],\n",
      "  ee_require: [Function: ee_require],\n",
      "  merge_dict: [Function (anonymous)],\n",
      "  default_true: [Function (anonymous)],\n",
      "  sf_to_dict: [Function: sf_to_dict],\n",
      "  st_drop_geometry: [Function: st_drop_geometry],\n",
      "  ee_extract_img: [Function: ee_extract_img],\n",
      "  ee_extract_col: [Function: ee_extract_col],\n",
      "  guess_reduce_option: [Function: guess_reduce_option],\n",
      "  ExportTable: [Function (anonymous)]\n",
      "}\n"
     ]
    }
   ],
   "source": [
    "var pkg = require(\"./pkg.js\");\n",
    "\n",
    "print(pkg)\n",
    "ee_init()"
   ]
  },
  {
   "cell_type": "code",
   "execution_count": 3,
   "metadata": {},
   "outputs": [
    {
     "name": "stdout",
     "output_type": "stream",
     "text": [
      "First image in LANDSAT 8 TOA collection was aquired on 2014-03-21\n",
      "Downloading thumbnail ...\n"
     ]
    }
   ],
   "source": [
    "var image = ee.Image(new ee.ImageCollection('LANDSAT/LC8_L1T_TOA').first());\n",
    "var info = image.getInfo();\n",
    "\n",
    "var date = info.properties['DATE_ACQUIRED'];\n",
    "print('First image in LANDSAT 8 TOA collection was aquired on ' + date);\n",
    "\n",
    "print('Downloading thumbnail ...');\n",
    "\n",
    "var url = image\n",
    "  .visualize({ bands: ['B6', 'B5', 'B3'], gamma: 1.5 })\n",
    "  .getThumbURL({ dimensions: '1024x1024', format: 'jpg' });\n",
    "\n",
    "download(url, 'hello.jpg');\n"
   ]
  },
  {
   "cell_type": "code",
   "execution_count": 3,
   "metadata": {},
   "outputs": [
    {
     "data": {
      "text/plain": [
       "{\n",
       "  started: 'OK',\n",
       "  taskId: 'U7JKU2DL7KZ4KIGRNB6CQRDG',\n",
       "  name: 'projects/earthengine-legacy/operations/U7JKU2DL7KZ4KIGRNB6CQRDG'\n",
       "}"
      ]
     },
     "execution_count": 3,
     "metadata": {},
     "output_type": "execute_result"
    }
   ],
   "source": [
    "var fc = ee.FeatureCollection(\"users/kongdd/shp/flux-212\").select(['site', 'IGBP']).limit(10);\n",
    "pkg.ExportTable(fc, \"flux212_latest\", { fileFormat: \"shp\"})\n"
   ]
  },
  {
   "cell_type": "code",
   "execution_count": 4,
   "metadata": {},
   "outputs": [
    {
     "data": {
      "text/plain": [
       "{\n",
       "  started: 'OK',\n",
       "  taskId: 'QG3POONG45ARVZBX5DSDL2QU',\n",
       "  name: 'projects/earthengine-legacy/operations/QG3POONG45ARVZBX5DSDL2QU'\n",
       "}"
      ]
     },
     "execution_count": 4,
     "metadata": {},
     "output_type": "execute_result"
    }
   ],
   "source": [
    "var col = ee.ImageCollection(\"CAS/IGSNRR/PML/V2_v017\");\n",
    "var fc = ee.FeatureCollection(\"users/kongdd/shp/flux-212\").select(['site', 'IGBP']).limit(10);\n",
    "var img = col.first();\n",
    "\n",
    "// ee_extract_img\n",
    "var r = pkg.ee_extract_img(img, fc)\n",
    "// pkg.sf_to_dict(r, true).getInfo() # 保存为csv\n",
    "pkg.ExportTable(fc, \"flux10_PMLV2\", { fileFormat: \"csv\" })\n"
   ]
  }
 ],
 "metadata": {
  "kernelspec": {
   "display_name": "JavaScript (Node.js)",
   "language": "javascript",
   "name": "javascript"
  },
  "language_info": {
   "file_extension": ".js",
   "mimetype": "application/javascript",
   "name": "javascript",
   "version": "20.5.1"
  },
  "orig_nbformat": 4
 },
 "nbformat": 4,
 "nbformat_minor": 2
}
