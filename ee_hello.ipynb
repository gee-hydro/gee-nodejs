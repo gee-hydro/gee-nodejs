{
 "cells": [
  {
   "cell_type": "code",
   "execution_count": 2,
   "metadata": {},
   "outputs": [
    {
     "name": "stdout",
     "output_type": "stream",
     "text": [
      "{\n",
      "  DIR: {\n",
      "    PRIVATE_KEY: 'C:\\\\Users\\\\kong/.config/earthengine/.private-key.json',\n",
      "    GEE: 'C:\\\\Users\\\\kong/gee'\n",
      "  },\n",
      "  write_json: [Function: write_json],\n",
      "  write_disk: [Function: write_disk],\n",
      "  ee_write_json: [AsyncFunction: ee_write_json],\n",
      "  ee_init: [Function: ee_init],\n",
      "  run_exec: [Function: run_exec],\n",
      "  ee_require: [Function: ee_require],\n",
      "  print: [Function: log],\n",
      "  merge_dict: [Function (anonymous)],\n",
      "  default_true: [Function (anonymous)],\n",
      "  sf_to_dict: [Function: sf_to_dict],\n",
      "  st_drop_geometry: [Function: st_drop_geometry],\n",
      "  ee_extract_img: [Function: ee_extract_img],\n",
      "  ee_extract_col: [Function: ee_extract_col],\n",
      "  guess_reduce_option: [Function: guess_reduce_option]\n",
      "}\n"
     ]
    }
   ],
   "source": [
    "var ee = require('@google/earthengine');\n",
    "var pkg = require(\"./pkg.js\");\n",
    "var { print, ee_init } = require(\"./pkg.js\");\n",
    "\n",
    "print(pkg)\n",
    "ee_init()"
   ]
  },
  {
   "cell_type": "code",
   "execution_count": 3,
   "metadata": {},
   "outputs": [
    {
     "name": "stdout",
     "output_type": "stream",
     "text": [
      "{\n",
      "  type: 'Image',\n",
      "  bands: [\n",
      "    {\n",
      "      id: 'constant',\n",
      "      data_type: [Object],\n",
      "      crs: 'EPSG:4326',\n",
      "      crs_transform: [Array]\n",
      "    }\n",
      "  ]\n",
      "}\n"
     ]
    }
   ],
   "source": [
    "var imageMetadata = ee.Image(1).getInfo();\n",
    "print(imageMetadata);"
   ]
  }
 ],
 "metadata": {
  "kernelspec": {
   "display_name": "JavaScript (Node.js)",
   "language": "javascript",
   "name": "javascript"
  },
  "language_info": {
   "file_extension": ".js",
   "mimetype": "application/javascript",
   "name": "javascript",
   "version": "20.5.1"
  },
  "orig_nbformat": 4
 },
 "nbformat": 4,
 "nbformat_minor": 2
}
