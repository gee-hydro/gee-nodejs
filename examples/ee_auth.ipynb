{
 "cells": [
  {
   "cell_type": "code",
   "execution_count": 2,
   "metadata": {},
   "outputs": [
    {
     "name": "stdout",
     "output_type": "stream",
     "text": [
      "{\n",
      "  st_write: [Function (anonymous)],\n",
      "  write_json: [Function: write_json],\n",
      "  write_disk: [Function: write_disk],\n",
      "  ee_write_json: [AsyncFunction: ee_write_json],\n",
      "  run_exec: [Function: run_exec],\n",
      "  ee_require: [Function: ee_require],\n",
      "  merge_dict: [Function (anonymous)],\n",
      "  default_true: [Function (anonymous)],\n",
      "  extract: [Function (anonymous)],\n",
      "  guess_reduce_option: [Function (anonymous)],\n",
      "  ee_extract_img: [Function (anonymous)],\n",
      "  _extract_col: [Function (anonymous)],\n",
      "  ee_extract_col: [Function (anonymous)],\n",
      "  st_drop_geometry: [Function (anonymous)],\n",
      "  sf_to_dict: [Function (anonymous)],\n",
      "  getDimensions: [Function (anonymous)],\n",
      "  set_image_range: [Function (anonymous)],\n",
      "  ExportTable: [Function (anonymous)],\n",
      "  ExportImage: [Function (anonymous)],\n",
      "  getDownloadURL: [Function (anonymous)],\n",
      "  index: {\n",
      "    SAVI: [Function (anonymous)],\n",
      "    NDVI: [Function (anonymous)],\n",
      "    EVI: [Function (anonymous)],\n",
      "    EVI2: [Function (anonymous)],\n",
      "    GVMI: [Function (anonymous)],\n",
      "    GVMI2: [Function (anonymous)],\n",
      "    RMI: [Function (anonymous)],\n",
      "    RMI2: [Function (anonymous)],\n",
      "    LSWI: [Function (anonymous)]\n",
      "  },\n",
      "  CMRSET: {\n",
      "    rescaled_evi: [Function (anonymous)],\n",
      "    PInterception: [Function (anonymous)],\n",
      "    Kc: [Function (anonymous)],\n",
      "    Kc2: [Function (anonymous)],\n",
      "    Kc_kamble: [Function (anonymous)],\n",
      "    Kc_irrisat: [Function (anonymous)],\n",
      "    ETa_swir1: [Function (anonymous)],\n",
      "    ETa_swir2: [Function (anonymous)],\n",
      "    ETa_irrisat: [Function (anonymous)],\n",
      "    ETa_kamble: [Function (anonymous)],\n",
      "    irrest_swir1: [Function (anonymous)],\n",
      "    irrest_swir2: [Function (anonymous)],\n",
      "    irrest_kamble: [Function (anonymous)],\n",
      "    irrest_irrisat: [Function (anonymous)]\n",
      "  }\n",
      "}\n"
     ]
    }
   ],
   "source": [
    "var pkg = require(\"../index.js\");\n",
    "\n",
    "print(pkg)\n",
    "ee_init()"
   ]
  },
  {
   "cell_type": "code",
   "execution_count": 3,
   "metadata": {},
   "outputs": [
    {
     "name": "stdout",
     "output_type": "stream",
     "text": [
      "{\n",
      "  type: 'Image',\n",
      "  bands: [\n",
      "    {\n",
      "      id: 'constant',\n",
      "      data_type: [Object],\n",
      "      crs: 'EPSG:4326',\n",
      "      crs_transform: [Array]\n",
      "    }\n",
      "  ]\n",
      "}\n"
     ]
    }
   ],
   "source": [
    "var img = ee.Image(1).getInfo();\n",
    "console.log(img);"
   ]
  },
  {
   "cell_type": "code",
   "execution_count": 9,
   "metadata": {},
   "outputs": [
    {
     "name": "stdout",
     "output_type": "stream",
     "text": [
      "https://accounts.google.com/o/oauth2/auth?client_id=508660400544-csdvqcr72k99su44vtg23nucdn1tim2o.apps.googleusercontent.com&redirect_uri=http://localhost:8080/oauth2callback&response_type=code&scope=https://www.googleapis.com/auth/earthengine\n"
     ]
    }
   ],
   "source": [
    "// 我的app\n",
    "var o = {\n",
    "  \"client_id\": \"508660400544-csdvqcr72k99su44vtg23nucdn1tim2o.apps.googleusercontent.com\",\n",
    "  \"client_secret\": \"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\",\n",
    "  \"redirect_uri\": \"http://localhost:8080/oauth2callback\"\n",
    "}\n",
    "\n",
    "url_root = \"\"\n",
    "url = `https://accounts.google.com/o/oauth2/auth?client_id=${o.client_id}&redirect_uri=${o.redirect_uri}&response_type=code&scope=https://www.googleapis.com/auth/earthengine`\n",
    "console.log(url)\n"
   ]
  }
 ],
 "metadata": {
  "kernelspec": {
   "display_name": "JavaScript (Node.js)",
   "language": "javascript",
   "name": "javascript"
  },
  "language_info": {
   "file_extension": ".js",
   "mimetype": "application/javascript",
   "name": "javascript",
   "version": "20.5.1"
  },
  "orig_nbformat": 4
 },
 "nbformat": 4,
 "nbformat_minor": 2
}
